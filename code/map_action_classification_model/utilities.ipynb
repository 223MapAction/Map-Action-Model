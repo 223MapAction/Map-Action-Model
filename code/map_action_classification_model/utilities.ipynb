{
 "cells": [
  {
   "cell_type": "code",
   "execution_count": 14,
   "metadata": {},
   "outputs": [
    {
     "ename": "SyntaxError",
     "evalue": "invalid syntax (3754886621.py, line 22)",
     "output_type": "error",
     "traceback": [
      "\u001b[0;36m  Cell \u001b[0;32mIn[14], line 22\u001b[0;36m\u001b[0m\n\u001b[0;31m    ds = datasources.get(DAGSHUB_USER+ str(/) +DAGSHUB_REPO, os.environ.get(\"DATASOURCE_NAME\"))\u001b[0m\n\u001b[0m                                           ^\u001b[0m\n\u001b[0;31mSyntaxError\u001b[0m\u001b[0;31m:\u001b[0m invalid syntax\n"
     ]
    }
   ],
   "source": [
    "import backoff\n",
    "import dagshub\n",
    "import IPython\n",
    "import json\n",
    "import mlflow\n",
    "import os\n",
    "import random\n",
    "import re\n",
    "import ultralytics\n",
    "import uuid\n",
    "from dagshub.data_engine import datasources\n",
    "import tqdm as notebook_tqdm\n",
    "\n",
    "\n",
    "mlflow.set_tracking_uri(os.environ.get(\"MLFLOW_TRACKING_URI\"))\n",
    "DAGSHUB_USER = os.environ.get(\"MLFLOW_TRACKING_USERNAME\")\n",
    "DAGSHUB_TOKEN= os.environ.get(\"MLFLOW_TRACKING_PASSWORD\")\n",
    "DAGSHUB_REPO_OWNER = os.environ.get(\"DAGSHUB_REPO_OWNER\")\n",
    "DAGSHUB_REPO = os.environ.get(\"DAGSHUB_REPO\")\n",
    "print(DAGSHUB_REPO)\n",
    "DAGSHUB_FULL_REPO= f\"DAGSHUB_REPO_OWNER/DAGSHUB_REPO\"\n",
    "print(DAGSHUB_FULL_REPO)\n",
    "ds = datasources.get(DAGSHUB_FULL_REPO, os.environ.get(\"DATASOURCE_NAME\"))\n",
    "\n",
    "newQuery = ds[\"size\"] > 1\n",
    "\n",
    "newQuery.all().dataframe\n",
    "\n",
    "newQuery.save_dataset(\"dataset1\")"
   ]
  }
 ],
 "metadata": {
  "kernelspec": {
   "display_name": "Python 3",
   "language": "python",
   "name": "python3"
  },
  "language_info": {
   "codemirror_mode": {
    "name": "ipython",
    "version": 3
   },
   "file_extension": ".py",
   "mimetype": "text/x-python",
   "name": "python",
   "nbconvert_exporter": "python",
   "pygments_lexer": "ipython3",
   "version": "3.10.12"
  }
 },
 "nbformat": 4,
 "nbformat_minor": 2
}
