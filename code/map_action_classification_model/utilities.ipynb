{
 "cells": [
  {
   "cell_type": "code",
   "execution_count": 2,
   "metadata": {},
   "outputs": [
    {
     "name": "stdout",
     "output_type": "stream",
     "text": [
      "Map-Action-Model\n",
      "Map-Action/Map-Action-Model\n"
     ]
    },
    {
     "data": {
      "application/vnd.jupyter.widget-view+json": {
       "model_id": "326b2fd2b60f426695f0b7bfe9fb2346",
       "version_major": 2,
       "version_minor": 0
      },
      "text/plain": [
       "Output()"
      ]
     },
     "metadata": {},
     "output_type": "display_data"
    },
    {
     "data": {
      "text/html": [
       "<pre style=\"white-space:pre;overflow-x:auto;line-height:normal;font-family:Menlo,'DejaVu Sans Mono',consolas,'Courier New',monospace\"></pre>\n"
      ],
      "text/plain": []
     },
     "metadata": {},
     "output_type": "display_data"
    },
    {
     "data": {
      "text/html": [
       "<pre style=\"white-space:pre;overflow-x:auto;line-height:normal;font-family:Menlo,'DejaVu Sans Mono',consolas,'Courier New',monospace\">\n",
       "</pre>\n"
      ],
      "text/plain": [
       "\n"
      ]
     },
     "metadata": {},
     "output_type": "display_data"
    },
    {
     "data": {
      "text/plain": [
       "QueryResult of datasource MapAction-DS with 417 datapoint(s)"
      ]
     },
     "execution_count": 2,
     "metadata": {},
     "output_type": "execute_result"
    }
   ],
   "source": [
    "import backoff\n",
    "import dagshub\n",
    "import IPython\n",
    "import json\n",
    "import mlflow\n",
    "import os\n",
    "import random\n",
    "import re\n",
    "import uuid\n",
    "from dagshub.data_engine import datasources\n",
    "from dotenv import load_dotenv\n",
    "\n",
    "load_dotenv()\n",
    "\n",
    "\n",
    "mlflow.set_tracking_uri(os.environ.get(\"MLFLOW_TRACKING_URI\"))\n",
    "DAGSHUB_USER = os.environ.get(\"MLFLOW_TRACKING_USERNAME\")\n",
    "DAGSHUB_TOKEN= os.environ.get(\"MLFLOW_TRACKING_PASSWORD\")\n",
    "DAGSHUB_REPO_OWNER = os.environ.get(\"DAGSHUB_REPO_OWNER\")\n",
    "DAGSHUB_REPO = os.environ.get(\"DAGSHUB_REPO\")\n",
    "print(DAGSHUB_REPO)\n",
    "DAGSHUB_FULL_REPO= DAGSHUB_REPO_OWNER+\"/\"+DAGSHUB_REPO\n",
    "print(DAGSHUB_FULL_REPO)\n",
    "ds = datasources.get(DAGSHUB_FULL_REPO, os.environ.get(\"DATASOURCE_NAME\"))\n",
    "\n",
    "newQuery = ds[\"size\"] > 1\n",
    "\n",
    "newQuery.all()\n",
    "\n",
    "#newQuery.save_dataset(\"dataset1\")"
   ]
  },
  {
   "cell_type": "code",
   "execution_count": null,
   "metadata": {},
   "outputs": [],
   "source": [
    "path = 'data/'\n",
    "for _f in ['train', 'valid', 'test']:\n",
    "    for _fold in os.listdir(path):\n",
    "        os.mkdir(os.path.join(path, _f, _fold))"
   ]
  }
 ],
 "metadata": {
  "kernelspec": {
   "display_name": "Python 3",
   "language": "python",
   "name": "python3"
  },
  "language_info": {
   "codemirror_mode": {
    "name": "ipython",
    "version": 3
   },
   "file_extension": ".py",
   "mimetype": "text/x-python",
   "name": "python",
   "nbconvert_exporter": "python",
   "pygments_lexer": "ipython3",
   "version": "3.10.12"
  }
 },
 "nbformat": 4,
 "nbformat_minor": 2
}
